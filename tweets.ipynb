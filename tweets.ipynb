{
 "cells": [
  {
   "cell_type": "code",
   "execution_count": 41,
   "metadata": {},
   "outputs": [],
   "source": [
    "#import libraries\n",
    "import pandas as pd\n",
    "from collections import Counter\n",
    "import tweepy"
   ]
  },
  {
   "cell_type": "code",
   "execution_count": 42,
   "metadata": {},
   "outputs": [],
   "source": [
    "#generate tokens\n",
    "consumer_key = 'GSklHr9axJa7gTFlh0n2gTqcI'\n",
    "consumer_secret = '4mZOA3mcDR2FDAWSswbkzwr9h19eNwcotXg7qvjfyr4W1IE8UE'\n",
    "access_token = '1493666970482401287-1do5Dp6yTPqYpacTCnJm2w1WFlNdRl'\n",
    "access_token_secret = 'DKhMfJHRPH35iGwHRQGDQl6F0wKPXyuyyUs6m3QimuZGV'\n",
    "bearer_token = 'AAAAAAAAAAAAAAAAAAAAAPz4fwEAAAAAN%2FlmUS2bdqeGoufmnvTcZ4C%2BvBo%3DEFppg2N9X78sVEubADg4ZBjklt7HGyMwLdsm2CZmeFYyGEc7Sq'"
   ]
  },
  {
   "cell_type": "code",
   "execution_count": 43,
   "metadata": {},
   "outputs": [],
   "source": [
    "#create authenticate object\n",
    "authenticate = tweepy.OAuthHandler(consumer_key, consumer_secret)\n",
    "\n",
    "#set access tokens\n",
    "authenticate.set_access_token(access_token, access_token_secret)\n",
    "\n",
    "#create client object\n",
    "client = tweepy.Client(bearer_token)"
   ]
  },
  {
   "cell_type": "code",
   "execution_count": 44,
   "metadata": {},
   "outputs": [
    {
     "name": "stdout",
     "output_type": "stream",
     "text": [
      "595041255\n",
      "Charlespurs\n",
      "Charlespurs\n",
      "\n",
      "1465914471390527488\n",
      "The United Tribune\n",
      "theutdtribune\n",
      "\n",
      "1230325158382047232\n",
      "Mohit Singh🇮🇳\n",
      "kunwarmohit01\n",
      "\n",
      "2911235659\n",
      "LeftOnTheShelf\n",
      "lots1882\n",
      "\n",
      "1430569667463053312\n",
      "arunn049\n",
      "arunn049\n",
      "\n",
      "17112532\n",
      "Michael Farley\n",
      "farley1992\n",
      "\n",
      "1335655758743146497\n",
      "Baldiola 🏆\n",
      "TeacherOfBall\n",
      "\n",
      "1518707179338928128\n",
      "UCRSAE\n",
      "UCRSAE\n",
      "\n",
      "916923061294657536\n",
      "Vipin Singh🇮🇳\n",
      "ImVipVipSingh\n",
      "\n",
      "38206451\n",
      "Ghanamma.com\n",
      "ghanamma\n",
      "\n"
     ]
    }
   ],
   "source": [
    "#make queries\n",
    "query = 'World Cup -is:retweet'\n",
    "tweets = client.search_recent_tweets(query=query, tweet_fields=['lang','created_at'], expansions=['author_id'], user_fields = ['profile_image_url'])\n",
    "User = tweets.includes['users']"
   ]
  },
  {
   "cell_type": "code",
   "execution_count": null,
   "metadata": {},
   "outputs": [],
   "source": [
    "#creating a dataframe\n",
    "tweets_df = pd.DataFrame(columns=['User_ID','Name', 'Username', 'Profile_image', 'Bio', 'Tweet_ID', 'Tweet_Date', \n",
    "'Tweet_language', 'Tweet_text'])"
   ]
  },
  {
   "cell_type": "code",
   "execution_count": null,
   "metadata": {},
   "outputs": [],
   "source": [
    "#creating a dictionary to store the user details\n",
    "userDetails = {\n",
    "    'User_ID': '',\n",
    "    'Name': '',\n",
    "    'Username': '',\n",
    "    'Profile_image': '',\n",
    "    'Bio': '',\n",
    "    'Tweet_ID': '',\n",
    "    'Tweet_Date': '',\n",
    "    'Tweet_language': '',\n",
    "    'Tweet_language': '',\n",
    "    'Tweet_text': ''\n",
    "}"
   ]
  },
  {
   "cell_type": "code",
   "execution_count": null,
   "metadata": {},
   "outputs": [],
   "source": [
    "#Appending the user details to the dataframe\n",
    "for i in range(len(tweets.data)):\n",
    "    userDetails['User_ID'] = User[i].id\n",
    "    userDetails['Name'] = User[i].name\n",
    "    userDetails['Profile_image'] = User[i].profile_image_url\n",
    "    userDetails['Bio'] = User[i].bio\n",
    "    userDetails['Tweet_ID'] = tweets[0][i].id\n",
    "    userDetails['Tweet_Date'] = tweets[0][i].created_at\n",
    "    userDetails['Tweet_language'] = tweets[0][i].lang\n",
    "    userDetails['Tweet_text'] = tweets[0][i].text\n",
    "\n",
    "    print(userDetails)\n",
    "    print()\n",
    "\n",
    "    tweets_df = tweets_df.append(userDetails, ignore_index = True)"
   ]
  },
  {
   "cell_type": "code",
   "execution_count": null,
   "metadata": {},
   "outputs": [],
   "source": [
    "#saving the dataframe into a csv file\n",
    "tweets_df.to_csv('tweets.csv', index = True)"
   ]
  }
 ],
 "metadata": {
  "kernelspec": {
   "display_name": "Python 3.9.12 ('base')",
   "language": "python",
   "name": "python3"
  },
  "language_info": {
   "codemirror_mode": {
    "name": "ipython",
    "version": 3
   },
   "file_extension": ".py",
   "mimetype": "text/x-python",
   "name": "python",
   "nbconvert_exporter": "python",
   "pygments_lexer": "ipython3",
   "version": "3.9.12"
  },
  "orig_nbformat": 4,
  "vscode": {
   "interpreter": {
    "hash": "34561dfd8f3962dd49d83a99497a1476a39f7bcba9df00bfa2d514e2cab42334"
   }
  }
 },
 "nbformat": 4,
 "nbformat_minor": 2
}

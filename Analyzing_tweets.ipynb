{
 "cells": [
  {
   "cell_type": "code",
   "execution_count": 134,
   "metadata": {},
   "outputs": [],
   "source": [
    "#import libraries\n",
    "import pandas as pd\n",
    "from collections import Counter\n",
    "import tweepy\n",
    "import re\n",
    "import nltk\n",
    "from textblob import TextBlob \n",
    "from nltk.corpus import stopwords\n",
    "from nltk.tokenize import word_tokenize\n",
    "import matplotlib.pyplot as plt\n",
    "from nltk.stem import PorterStemmer\n"
   ]
  },
  {
   "cell_type": "code",
   "execution_count": 135,
   "metadata": {},
   "outputs": [
    {
     "name": "stdout",
     "output_type": "stream",
     "text": [
      "    Unnamed: 0                                             Tweets\n",
      "0            0  ['hows', 'gon', 'na', 'respond', 'disaster', '...\n",
      "1            1       ['_', 'like', 'suicide', 'bombing', 'jihad']\n",
      "2            2                 ['choosing', 'violence', 'though']\n",
      "3            3  ['mb', 'main', 'players', 'served', 'central',...\n",
      "4            4  ['runs', 'donald', 'trump', 'full', 'support',...\n",
      "..         ...                                                ...\n",
      "95          95  ['fear', 'isil', 'try', 'take', 'bamako', 'jun...\n",
      "96          96  ['_parked', 'considered', 'violence', 'form', ...\n",
      "97          97  ['tigray', 'conflict', 'triggering', 'instabil...\n",
      "98          98   ['open', 'threat', 'safety', 'british', 'women']\n",
      "99          99  ['particular', 'style', 'cowardice', 'hallmark...\n",
      "\n",
      "[100 rows x 2 columns]\n"
     ]
    }
   ],
   "source": [
    "tweets_df = pd.read_csv('clean_data2.csv')\n",
    "print(tweets_df) "
   ]
  },
  {
   "cell_type": "code",
   "execution_count": 136,
   "metadata": {},
   "outputs": [],
   "source": [
    "# def _stem(tweet):\n",
    "#     words = word_tokenize(tweet)\n",
    "#     stemming = PorterStemmer()\n",
    "#     word = \"\"\n",
    "#     for i in words:\n",
    "#         word += stemming.stem(i)+\" \"\n",
    "    \n",
    "#     return word\n",
    "\n",
    "# tweets_df['Tweets'] = tweets_df['Tweets'].apply(_stem)\n"
   ]
  },
  {
   "cell_type": "code",
   "execution_count": 137,
   "metadata": {},
   "outputs": [
    {
     "data": {
      "text/html": [
       "<div>\n",
       "<style scoped>\n",
       "    .dataframe tbody tr th:only-of-type {\n",
       "        vertical-align: middle;\n",
       "    }\n",
       "\n",
       "    .dataframe tbody tr th {\n",
       "        vertical-align: top;\n",
       "    }\n",
       "\n",
       "    .dataframe thead th {\n",
       "        text-align: right;\n",
       "    }\n",
       "</style>\n",
       "<table border=\"1\" class=\"dataframe\">\n",
       "  <thead>\n",
       "    <tr style=\"text-align: right;\">\n",
       "      <th></th>\n",
       "      <th>Unnamed: 0</th>\n",
       "      <th>Tweets</th>\n",
       "      <th>Subjectivity</th>\n",
       "      <th>Polarity</th>\n",
       "    </tr>\n",
       "  </thead>\n",
       "  <tbody>\n",
       "    <tr>\n",
       "      <th>0</th>\n",
       "      <td>0</td>\n",
       "      <td>['hows', 'gon', 'na', 'respond', 'disaster', '...</td>\n",
       "      <td>0.562500</td>\n",
       "      <td>0.318182</td>\n",
       "    </tr>\n",
       "    <tr>\n",
       "      <th>1</th>\n",
       "      <td>1</td>\n",
       "      <td>['_', 'like', 'suicide', 'bombing', 'jihad']</td>\n",
       "      <td>0.000000</td>\n",
       "      <td>0.000000</td>\n",
       "    </tr>\n",
       "    <tr>\n",
       "      <th>2</th>\n",
       "      <td>2</td>\n",
       "      <td>['choosing', 'violence', 'though']</td>\n",
       "      <td>0.000000</td>\n",
       "      <td>0.000000</td>\n",
       "    </tr>\n",
       "    <tr>\n",
       "      <th>3</th>\n",
       "      <td>3</td>\n",
       "      <td>['mb', 'main', 'players', 'served', 'central',...</td>\n",
       "      <td>0.194444</td>\n",
       "      <td>0.055556</td>\n",
       "    </tr>\n",
       "    <tr>\n",
       "      <th>4</th>\n",
       "      <td>4</td>\n",
       "      <td>['runs', 'donald', 'trump', 'full', 'support',...</td>\n",
       "      <td>0.287500</td>\n",
       "      <td>0.212500</td>\n",
       "    </tr>\n",
       "  </tbody>\n",
       "</table>\n",
       "</div>"
      ],
      "text/plain": [
       "   Unnamed: 0                                             Tweets  \\\n",
       "0           0  ['hows', 'gon', 'na', 'respond', 'disaster', '...   \n",
       "1           1       ['_', 'like', 'suicide', 'bombing', 'jihad']   \n",
       "2           2                 ['choosing', 'violence', 'though']   \n",
       "3           3  ['mb', 'main', 'players', 'served', 'central',...   \n",
       "4           4  ['runs', 'donald', 'trump', 'full', 'support',...   \n",
       "\n",
       "   Subjectivity  Polarity  \n",
       "0      0.562500  0.318182  \n",
       "1      0.000000  0.000000  \n",
       "2      0.000000  0.000000  \n",
       "3      0.194444  0.055556  \n",
       "4      0.287500  0.212500  "
      ]
     },
     "execution_count": 137,
     "metadata": {},
     "output_type": "execute_result"
    }
   ],
   "source": [
    "#Function to check the subjectivity of the tweet\n",
    "def getSubjectivity(text):\n",
    "    return TextBlob(text).sentiment.subjectivity\n",
    "def getPolarity(text):\n",
    "    return TextBlob(text).sentiment.polarity\n",
    "\n",
    "#Creating two new columns for subjectivity and polarity\n",
    "tweets_df['Subjectivity'] = tweets_df[\"Tweets\"].apply(getSubjectivity)\n",
    "tweets_df['Polarity'] = tweets_df[\"Tweets\"].apply(getPolarity)\n",
    "\n",
    "tweets_df.head()"
   ]
  },
  {
   "cell_type": "code",
   "execution_count": 138,
   "metadata": {},
   "outputs": [
    {
     "data": {
      "text/html": [
       "<div>\n",
       "<style scoped>\n",
       "    .dataframe tbody tr th:only-of-type {\n",
       "        vertical-align: middle;\n",
       "    }\n",
       "\n",
       "    .dataframe tbody tr th {\n",
       "        vertical-align: top;\n",
       "    }\n",
       "\n",
       "    .dataframe thead th {\n",
       "        text-align: right;\n",
       "    }\n",
       "</style>\n",
       "<table border=\"1\" class=\"dataframe\">\n",
       "  <thead>\n",
       "    <tr style=\"text-align: right;\">\n",
       "      <th></th>\n",
       "      <th>Unnamed: 0</th>\n",
       "      <th>Tweets</th>\n",
       "      <th>Subjectivity</th>\n",
       "      <th>Polarity</th>\n",
       "      <th>Analysis</th>\n",
       "    </tr>\n",
       "  </thead>\n",
       "  <tbody>\n",
       "    <tr>\n",
       "      <th>0</th>\n",
       "      <td>0</td>\n",
       "      <td>['hows', 'gon', 'na', 'respond', 'disaster', '...</td>\n",
       "      <td>0.562500</td>\n",
       "      <td>0.318182</td>\n",
       "      <td>Positive</td>\n",
       "    </tr>\n",
       "    <tr>\n",
       "      <th>1</th>\n",
       "      <td>1</td>\n",
       "      <td>['_', 'like', 'suicide', 'bombing', 'jihad']</td>\n",
       "      <td>0.000000</td>\n",
       "      <td>0.000000</td>\n",
       "      <td>Neutral</td>\n",
       "    </tr>\n",
       "    <tr>\n",
       "      <th>2</th>\n",
       "      <td>2</td>\n",
       "      <td>['choosing', 'violence', 'though']</td>\n",
       "      <td>0.000000</td>\n",
       "      <td>0.000000</td>\n",
       "      <td>Neutral</td>\n",
       "    </tr>\n",
       "    <tr>\n",
       "      <th>3</th>\n",
       "      <td>3</td>\n",
       "      <td>['mb', 'main', 'players', 'served', 'central',...</td>\n",
       "      <td>0.194444</td>\n",
       "      <td>0.055556</td>\n",
       "      <td>Positive</td>\n",
       "    </tr>\n",
       "    <tr>\n",
       "      <th>4</th>\n",
       "      <td>4</td>\n",
       "      <td>['runs', 'donald', 'trump', 'full', 'support',...</td>\n",
       "      <td>0.287500</td>\n",
       "      <td>0.212500</td>\n",
       "      <td>Positive</td>\n",
       "    </tr>\n",
       "  </tbody>\n",
       "</table>\n",
       "</div>"
      ],
      "text/plain": [
       "   Unnamed: 0                                             Tweets  \\\n",
       "0           0  ['hows', 'gon', 'na', 'respond', 'disaster', '...   \n",
       "1           1       ['_', 'like', 'suicide', 'bombing', 'jihad']   \n",
       "2           2                 ['choosing', 'violence', 'though']   \n",
       "3           3  ['mb', 'main', 'players', 'served', 'central',...   \n",
       "4           4  ['runs', 'donald', 'trump', 'full', 'support',...   \n",
       "\n",
       "   Subjectivity  Polarity  Analysis  \n",
       "0      0.562500  0.318182  Positive  \n",
       "1      0.000000  0.000000   Neutral  \n",
       "2      0.000000  0.000000   Neutral  \n",
       "3      0.194444  0.055556  Positive  \n",
       "4      0.287500  0.212500  Positive  "
      ]
     },
     "execution_count": 138,
     "metadata": {},
     "output_type": "execute_result"
    }
   ],
   "source": [
    "#Function to classify a tweet as positive, negative, or neutral\n",
    "def getAnalysis(score):\n",
    "    if score < 0:\n",
    "        return 'Negative'\n",
    "    elif score == 0:\n",
    "        return 'Neutral'\n",
    "    else:\n",
    "        return 'Positive'\n",
    "\n",
    "tweets_df['Analysis'] = tweets_df['Polarity'].apply(getAnalysis)\n",
    "\n",
    "tweets_df.head()"
   ]
  },
  {
   "cell_type": "code",
   "execution_count": 139,
   "metadata": {},
   "outputs": [
    {
     "data": {
      "image/png": "[encoded data removed]",
      "text/plain": [
       "<Figure size 576x432 with 1 Axes>"
      ]
     },
     "metadata": {
      "needs_background": "light"
     },
     "output_type": "display_data"
    }
   ],
   "source": [
    "#plot the tweets using a scatter plot\n",
    "plt.figure(figsize=(8,6))\n",
    "for i in range(0, tweets_df.shape[0]):\n",
    "    plt.scatter(tweets_df['Polarity'][i], tweets_df['Subjectivity'][i], color = 'Blue')\n",
    "\n",
    "plt.title('Scatter Plot')\n",
    "plt.xlabel('Polarity')\n",
    "plt.ylabel('Subjectivity')\n",
    "plt.show()"
   ]
  },
  {
   "cell_type": "code",
   "execution_count": 140,
   "metadata": {},
   "outputs": [
    {
     "data": {
      "text/plain": [
       "34.0"
      ]
     },
     "execution_count": 140,
     "metadata": {},
     "output_type": "execute_result"
    }
   ],
   "source": [
    "#Get the percentage of positive tweets\n",
    "ptweets = tweets_df[tweets_df.Analysis == 'Positive']\n",
    "ptweets = ptweets['Tweets']\n",
    "\n",
    "round((ptweets.shape[0]/tweets_df.shape[0]) * 100, 1)"
   ]
  },
  {
   "cell_type": "code",
   "execution_count": 141,
   "metadata": {},
   "outputs": [
    {
     "data": {
      "text/plain": [
       "30.0"
      ]
     },
     "execution_count": 141,
     "metadata": {},
     "output_type": "execute_result"
    }
   ],
   "source": [
    "#Get the percentage of negative tweets\n",
    "ntweets = tweets_df[tweets_df.Analysis == 'Negative']\n",
    "ntweets = ntweets['Tweets']\n",
    "\n",
    "round((ntweets.shape[0]/tweets_df.shape[0]) * 100, 1)"
   ]
  },
  {
   "cell_type": "code",
   "execution_count": 142,
   "metadata": {},
   "outputs": [
    {
     "data": {
      "image/png": "[encoded data removed]",
      "text/plain": [
       "<Figure size 432x288 with 1 Axes>"
      ]
     },
     "metadata": {
      "needs_background": "light"
     },
     "output_type": "display_data"
    }
   ],
   "source": [
    "#Plot the values using a bar chart\n",
    "tweets_df['Analysis'].value_counts()\n",
    "plt.title('Bar Chart')\n",
    "plt.xlabel('Sentiment')\n",
    "plt.ylabel('Counts')\n",
    "tweets_df['Analysis'].value_counts().plot(kind='bar')\n",
    "plt.show()"
   ]
  }
 ],
 "metadata": {
  "kernelspec": {
   "display_name": "Python 3 (ipykernel)",
   "language": "python",
   "name": "python3"
  },
  "language_info": {
   "codemirror_mode": {
    "name": "ipython",
    "version": 3
   },
   "file_extension": ".py",
   "mimetype": "text/x-python",
   "name": "python",
   "nbconvert_exporter": "python",
   "pygments_lexer": "ipython3",
   "version": "3.9.12"
  },
  "vscode": {
   "interpreter": {
    "hash": "34561dfd8f3962dd49d83a99497a1476a39f7bcba9df00bfa2d514e2cab42334"
   }
  }
 },
 "nbformat": 4,
 "nbformat_minor": 2
}
